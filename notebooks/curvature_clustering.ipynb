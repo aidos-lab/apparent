{
 "cells": [
  {
   "cell_type": "markdown",
   "id": "8354efca",
   "metadata": {},
   "source": [
    "## Clustering and MDS Visualization"
   ]
  },
  {
   "cell_type": "code",
   "execution_count": 12,
   "id": "5dd00b1b",
   "metadata": {},
   "outputs": [],
   "source": [
    "import pandas as pd\n",
    "import numpy as np\n",
    "from gudhi.representations import Landscape\n",
    "\n",
    "import seaborn as sns\n",
    "import pandas as pd\n",
    "import matplotlib.pyplot as plt\n",
    "\n",
    "import pickle\n",
    "import sys\n",
    "import networkx as nx\n",
    "sys.path.append(\"../apparent/\")"
   ]
  },
  {
   "cell_type": "code",
   "execution_count": 2,
   "id": "1ef4c39a",
   "metadata": {},
   "outputs": [],
   "source": [
    "df = pd.read_csv(\"/Users/jeremy.wayland/Desktop/projects/apparent/outputs/networks_data.csv\",index_col=0)"
   ]
  },
  {
   "cell_type": "code",
   "execution_count": 3,
   "id": "1c5291a0",
   "metadata": {},
   "outputs": [],
   "source": [
    "df = df[df[\"year\"]==2017]"
   ]
  },
  {
   "cell_type": "code",
   "execution_count": 4,
   "id": "dd0fc435",
   "metadata": {},
   "outputs": [],
   "source": [
    "join=\"hsanum\""
   ]
  },
  {
   "cell_type": "code",
   "execution_count": 5,
   "id": "7e9965e9",
   "metadata": {},
   "outputs": [],
   "source": [
    "state_data_2017 = pd.read_excel(\"/Users/jeremy.wayland/Downloads/state_mortality_dead6599ffs_2017.xlsx\")"
   ]
  },
  {
   "cell_type": "code",
   "execution_count": 7,
   "id": "5cde713f",
   "metadata": {},
   "outputs": [],
   "source": [
    "hsa_2017 = pd.read_excel(\"/Users/jeremy.wayland/Desktop/projects/apparent/data/hsa_mortality_dead6599ffs_2017.xlsx\",sheet_name=1)"
   ]
  },
  {
   "cell_type": "code",
   "execution_count": 9,
   "id": "68a2d060",
   "metadata": {},
   "outputs": [],
   "source": [
    "join = df.join(hsa_2017.set_index(\"HSA #\"), on=join)"
   ]
  },
  {
   "cell_type": "code",
   "execution_count": 21,
   "id": "108e5f11",
   "metadata": {},
   "outputs": [],
   "source": [
    "columns = ['nnodes', 'nedges', 'density', 'degree_assortativity',\n",
    "       'Year', 'HSA Name', 'Medicare Enrollees',\n",
    "       'Total Mortality: ASR-adjusted Percent of Deaths among Medicare Enrollees',\n",
    "       'Non-HMO Mortality: ASR-adjusted Percent of Deaths among Medicare Enrollees without HMO Coverage']"
   ]
  },
  {
   "cell_type": "code",
   "execution_count": 23,
   "id": "14811bf6",
   "metadata": {},
   "outputs": [
    {
     "ename": "TypeError",
     "evalue": "Neither the `x` nor `y` variable appears to be numeric.",
     "output_type": "error",
     "traceback": [
      "\u001b[0;31m---------------------------------------------------------------------------\u001b[0m",
      "\u001b[0;31mTypeError\u001b[0m                                 Traceback (most recent call last)",
      "\u001b[0;32m/var/folders/81/4smyjgm56s7gm79ptgb726s904l6lt/T/ipykernel_5814/1123361001.py\u001b[0m in \u001b[0;36m<module>\u001b[0;34m\u001b[0m\n\u001b[1;32m      4\u001b[0m \u001b[0;31m# Create violin plot\u001b[0m\u001b[0;34m\u001b[0m\u001b[0;34m\u001b[0m\u001b[0m\n\u001b[1;32m      5\u001b[0m \u001b[0mplt\u001b[0m\u001b[0;34m.\u001b[0m\u001b[0mfigure\u001b[0m\u001b[0;34m(\u001b[0m\u001b[0mfigsize\u001b[0m\u001b[0;34m=\u001b[0m\u001b[0;34m(\u001b[0m\u001b[0;36m12\u001b[0m\u001b[0;34m,\u001b[0m \u001b[0;36m8\u001b[0m\u001b[0;34m)\u001b[0m\u001b[0;34m)\u001b[0m\u001b[0;34m\u001b[0m\u001b[0;34m\u001b[0m\u001b[0m\n\u001b[0;32m----> 6\u001b[0;31m \u001b[0msns\u001b[0m\u001b[0;34m.\u001b[0m\u001b[0mviolinplot\u001b[0m\u001b[0;34m(\u001b[0m\u001b[0mdata\u001b[0m\u001b[0;34m=\u001b[0m\u001b[0mmelted_df\u001b[0m\u001b[0;34m,\u001b[0m \u001b[0mx\u001b[0m\u001b[0;34m=\u001b[0m\u001b[0;34m'Column'\u001b[0m\u001b[0;34m,\u001b[0m \u001b[0my\u001b[0m\u001b[0;34m=\u001b[0m\u001b[0;34m'value'\u001b[0m\u001b[0;34m)\u001b[0m\u001b[0;34m\u001b[0m\u001b[0;34m\u001b[0m\u001b[0m\n\u001b[0m\u001b[1;32m      7\u001b[0m \u001b[0mplt\u001b[0m\u001b[0;34m.\u001b[0m\u001b[0mxticks\u001b[0m\u001b[0;34m(\u001b[0m\u001b[0mrotation\u001b[0m\u001b[0;34m=\u001b[0m\u001b[0;36m45\u001b[0m\u001b[0;34m,\u001b[0m \u001b[0mha\u001b[0m\u001b[0;34m=\u001b[0m\u001b[0;34m'right'\u001b[0m\u001b[0;34m)\u001b[0m\u001b[0;34m\u001b[0m\u001b[0;34m\u001b[0m\u001b[0m\n\u001b[1;32m      8\u001b[0m \u001b[0mplt\u001b[0m\u001b[0;34m.\u001b[0m\u001b[0mtitle\u001b[0m\u001b[0;34m(\u001b[0m\u001b[0;34m'Violin Plot of Column Distributions'\u001b[0m\u001b[0;34m)\u001b[0m\u001b[0;34m\u001b[0m\u001b[0;34m\u001b[0m\u001b[0m\n",
      "\u001b[0;32m~/opt/anaconda3/lib/python3.9/site-packages/seaborn/_decorators.py\u001b[0m in \u001b[0;36minner_f\u001b[0;34m(*args, **kwargs)\u001b[0m\n\u001b[1;32m     44\u001b[0m             )\n\u001b[1;32m     45\u001b[0m         \u001b[0mkwargs\u001b[0m\u001b[0;34m.\u001b[0m\u001b[0mupdate\u001b[0m\u001b[0;34m(\u001b[0m\u001b[0;34m{\u001b[0m\u001b[0mk\u001b[0m\u001b[0;34m:\u001b[0m \u001b[0marg\u001b[0m \u001b[0;32mfor\u001b[0m \u001b[0mk\u001b[0m\u001b[0;34m,\u001b[0m \u001b[0marg\u001b[0m \u001b[0;32min\u001b[0m \u001b[0mzip\u001b[0m\u001b[0;34m(\u001b[0m\u001b[0msig\u001b[0m\u001b[0;34m.\u001b[0m\u001b[0mparameters\u001b[0m\u001b[0;34m,\u001b[0m \u001b[0margs\u001b[0m\u001b[0;34m)\u001b[0m\u001b[0;34m}\u001b[0m\u001b[0;34m)\u001b[0m\u001b[0;34m\u001b[0m\u001b[0;34m\u001b[0m\u001b[0m\n\u001b[0;32m---> 46\u001b[0;31m         \u001b[0;32mreturn\u001b[0m \u001b[0mf\u001b[0m\u001b[0;34m(\u001b[0m\u001b[0;34m**\u001b[0m\u001b[0mkwargs\u001b[0m\u001b[0;34m)\u001b[0m\u001b[0;34m\u001b[0m\u001b[0;34m\u001b[0m\u001b[0m\n\u001b[0m\u001b[1;32m     47\u001b[0m     \u001b[0;32mreturn\u001b[0m \u001b[0minner_f\u001b[0m\u001b[0;34m\u001b[0m\u001b[0;34m\u001b[0m\u001b[0m\n\u001b[1;32m     48\u001b[0m \u001b[0;34m\u001b[0m\u001b[0m\n",
      "\u001b[0;32m~/opt/anaconda3/lib/python3.9/site-packages/seaborn/categorical.py\u001b[0m in \u001b[0;36mviolinplot\u001b[0;34m(x, y, hue, data, order, hue_order, bw, cut, scale, scale_hue, gridsize, width, inner, split, dodge, orient, linewidth, color, palette, saturation, ax, **kwargs)\u001b[0m\n\u001b[1;32m   2398\u001b[0m ):\n\u001b[1;32m   2399\u001b[0m \u001b[0;34m\u001b[0m\u001b[0m\n\u001b[0;32m-> 2400\u001b[0;31m     plotter = _ViolinPlotter(x, y, hue, data, order, hue_order,\n\u001b[0m\u001b[1;32m   2401\u001b[0m                              \u001b[0mbw\u001b[0m\u001b[0;34m,\u001b[0m \u001b[0mcut\u001b[0m\u001b[0;34m,\u001b[0m \u001b[0mscale\u001b[0m\u001b[0;34m,\u001b[0m \u001b[0mscale_hue\u001b[0m\u001b[0;34m,\u001b[0m \u001b[0mgridsize\u001b[0m\u001b[0;34m,\u001b[0m\u001b[0;34m\u001b[0m\u001b[0;34m\u001b[0m\u001b[0m\n\u001b[1;32m   2402\u001b[0m                              \u001b[0mwidth\u001b[0m\u001b[0;34m,\u001b[0m \u001b[0minner\u001b[0m\u001b[0;34m,\u001b[0m \u001b[0msplit\u001b[0m\u001b[0;34m,\u001b[0m \u001b[0mdodge\u001b[0m\u001b[0;34m,\u001b[0m \u001b[0morient\u001b[0m\u001b[0;34m,\u001b[0m \u001b[0mlinewidth\u001b[0m\u001b[0;34m,\u001b[0m\u001b[0;34m\u001b[0m\u001b[0;34m\u001b[0m\u001b[0m\n",
      "\u001b[0;32m~/opt/anaconda3/lib/python3.9/site-packages/seaborn/categorical.py\u001b[0m in \u001b[0;36m__init__\u001b[0;34m(self, x, y, hue, data, order, hue_order, bw, cut, scale, scale_hue, gridsize, width, inner, split, dodge, orient, linewidth, color, palette, saturation)\u001b[0m\n\u001b[1;32m    520\u001b[0m                  color, palette, saturation):\n\u001b[1;32m    521\u001b[0m \u001b[0;34m\u001b[0m\u001b[0m\n\u001b[0;32m--> 522\u001b[0;31m         \u001b[0mself\u001b[0m\u001b[0;34m.\u001b[0m\u001b[0mestablish_variables\u001b[0m\u001b[0;34m(\u001b[0m\u001b[0mx\u001b[0m\u001b[0;34m,\u001b[0m \u001b[0my\u001b[0m\u001b[0;34m,\u001b[0m \u001b[0mhue\u001b[0m\u001b[0;34m,\u001b[0m \u001b[0mdata\u001b[0m\u001b[0;34m,\u001b[0m \u001b[0morient\u001b[0m\u001b[0;34m,\u001b[0m \u001b[0morder\u001b[0m\u001b[0;34m,\u001b[0m \u001b[0mhue_order\u001b[0m\u001b[0;34m)\u001b[0m\u001b[0;34m\u001b[0m\u001b[0;34m\u001b[0m\u001b[0m\n\u001b[0m\u001b[1;32m    523\u001b[0m         \u001b[0mself\u001b[0m\u001b[0;34m.\u001b[0m\u001b[0mestablish_colors\u001b[0m\u001b[0;34m(\u001b[0m\u001b[0mcolor\u001b[0m\u001b[0;34m,\u001b[0m \u001b[0mpalette\u001b[0m\u001b[0;34m,\u001b[0m \u001b[0msaturation\u001b[0m\u001b[0;34m)\u001b[0m\u001b[0;34m\u001b[0m\u001b[0;34m\u001b[0m\u001b[0m\n\u001b[1;32m    524\u001b[0m         \u001b[0mself\u001b[0m\u001b[0;34m.\u001b[0m\u001b[0mestimate_densities\u001b[0m\u001b[0;34m(\u001b[0m\u001b[0mbw\u001b[0m\u001b[0;34m,\u001b[0m \u001b[0mcut\u001b[0m\u001b[0;34m,\u001b[0m \u001b[0mscale\u001b[0m\u001b[0;34m,\u001b[0m \u001b[0mscale_hue\u001b[0m\u001b[0;34m,\u001b[0m \u001b[0mgridsize\u001b[0m\u001b[0;34m)\u001b[0m\u001b[0;34m\u001b[0m\u001b[0;34m\u001b[0m\u001b[0m\n",
      "\u001b[0;32m~/opt/anaconda3/lib/python3.9/site-packages/seaborn/categorical.py\u001b[0m in \u001b[0;36mestablish_variables\u001b[0;34m(self, x, y, hue, data, orient, order, hue_order, units)\u001b[0m\n\u001b[1;32m    154\u001b[0m \u001b[0;34m\u001b[0m\u001b[0m\n\u001b[1;32m    155\u001b[0m             \u001b[0;31m# Figure out the plotting orientation\u001b[0m\u001b[0;34m\u001b[0m\u001b[0;34m\u001b[0m\u001b[0m\n\u001b[0;32m--> 156\u001b[0;31m             orient = infer_orient(\n\u001b[0m\u001b[1;32m    157\u001b[0m                 \u001b[0mx\u001b[0m\u001b[0;34m,\u001b[0m \u001b[0my\u001b[0m\u001b[0;34m,\u001b[0m \u001b[0morient\u001b[0m\u001b[0;34m,\u001b[0m \u001b[0mrequire_numeric\u001b[0m\u001b[0;34m=\u001b[0m\u001b[0mself\u001b[0m\u001b[0;34m.\u001b[0m\u001b[0mrequire_numeric\u001b[0m\u001b[0;34m\u001b[0m\u001b[0;34m\u001b[0m\u001b[0m\n\u001b[1;32m    158\u001b[0m             )\n",
      "\u001b[0;32m~/opt/anaconda3/lib/python3.9/site-packages/seaborn/_core.py\u001b[0m in \u001b[0;36minfer_orient\u001b[0;34m(x, y, orient, require_numeric)\u001b[0m\n\u001b[1;32m   1350\u001b[0m     \u001b[0;32melif\u001b[0m \u001b[0mrequire_numeric\u001b[0m \u001b[0;32mand\u001b[0m \u001b[0;34m\"numeric\"\u001b[0m \u001b[0;32mnot\u001b[0m \u001b[0;32min\u001b[0m \u001b[0;34m(\u001b[0m\u001b[0mx_type\u001b[0m\u001b[0;34m,\u001b[0m \u001b[0my_type\u001b[0m\u001b[0;34m)\u001b[0m\u001b[0;34m:\u001b[0m\u001b[0;34m\u001b[0m\u001b[0;34m\u001b[0m\u001b[0m\n\u001b[1;32m   1351\u001b[0m         \u001b[0merr\u001b[0m \u001b[0;34m=\u001b[0m \u001b[0;34m\"Neither the `x` nor `y` variable appears to be numeric.\"\u001b[0m\u001b[0;34m\u001b[0m\u001b[0;34m\u001b[0m\u001b[0m\n\u001b[0;32m-> 1352\u001b[0;31m         \u001b[0;32mraise\u001b[0m \u001b[0mTypeError\u001b[0m\u001b[0;34m(\u001b[0m\u001b[0merr\u001b[0m\u001b[0;34m)\u001b[0m\u001b[0;34m\u001b[0m\u001b[0;34m\u001b[0m\u001b[0m\n\u001b[0m\u001b[1;32m   1353\u001b[0m \u001b[0;34m\u001b[0m\u001b[0m\n\u001b[1;32m   1354\u001b[0m     \u001b[0;32melse\u001b[0m\u001b[0;34m:\u001b[0m\u001b[0;34m\u001b[0m\u001b[0;34m\u001b[0m\u001b[0m\n",
      "\u001b[0;31mTypeError\u001b[0m: Neither the `x` nor `y` variable appears to be numeric."
     ]
    },
    {
     "data": {
      "text/plain": [
       "<Figure size 1200x800 with 0 Axes>"
      ]
     },
     "metadata": {},
     "output_type": "display_data"
    }
   ],
   "source": [
    "# Melt the dataframe to reshape it for plotting\n",
    "melted_df = join.melt(value_vars=columns, var_name='Column')\n",
    "\n",
    "# Create violin plot\n",
    "plt.figure(figsize=(12, 8))\n",
    "sns.violinplot(data=melted_df, x='Column', y='value')\n",
    "plt.xticks(rotation=45, ha='right')\n",
    "plt.title('Violin Plot of Column Distributions')\n",
    "plt.xlabel('Column')\n",
    "plt.ylabel('Value')\n",
    "plt.tight_layout()\n",
    "plt.show()"
   ]
  },
  {
   "cell_type": "markdown",
   "id": "97d38345",
   "metadata": {},
   "source": []
  },
  {
   "cell_type": "markdown",
   "id": "faaa8592",
   "metadata": {},
   "source": [
    "# Testing Gudhi Landscape Conversion"
   ]
  },
  {
   "cell_type": "code",
   "execution_count": 6,
   "id": "d9d0805a",
   "metadata": {},
   "outputs": [],
   "source": [
    "test_dgm = diagrams[1001]"
   ]
  },
  {
   "cell_type": "code",
   "execution_count": 8,
   "id": "31966807",
   "metadata": {},
   "outputs": [],
   "source": [
    "landscapes = {}\n",
    "for dim,dgm in enumerate(test_dgm):\n",
    "    landscapes[dim] = dgm.fit_landscape()"
   ]
  },
  {
   "cell_type": "code",
   "execution_count": 9,
   "id": "188abb61",
   "metadata": {},
   "outputs": [
    {
     "data": {
      "text/plain": [
       "{0: array([[0.00272748, 0.00545496, 0.00818244, ..., 0.        , 0.        ,\n",
       "         0.        ]]),\n",
       " 1: array([[0.00135727, 0.00271453, 0.0040718 , ..., 0.0040718 , 0.00271453,\n",
       "         0.00135727]])}"
      ]
     },
     "execution_count": 9,
     "metadata": {},
     "output_type": "execute_result"
    }
   ],
   "source": [
    "landscapes"
   ]
  },
  {
   "cell_type": "code",
   "execution_count": 14,
   "id": "3b73cd74",
   "metadata": {},
   "outputs": [],
   "source": [
    "pairs = [(0, 1), (1, 2), (2, 3), (3, 4), (4, 5)]"
   ]
  },
  {
   "cell_type": "code",
   "execution_count": 15,
   "id": "5b69f88e",
   "metadata": {},
   "outputs": [],
   "source": [
    "dgm = PersistenceDiagram(pairs)"
   ]
  },
  {
   "cell_type": "code",
   "execution_count": 20,
   "id": "6ccad9af",
   "metadata": {},
   "outputs": [
    {
     "data": {
      "text/plain": [
       "array([[0.23570226, 0.47140452, 0.70710678, 0.47140452, 0.23570226]])"
      ]
     },
     "execution_count": 20,
     "metadata": {},
     "output_type": "execute_result"
    }
   ],
   "source": [
    "dgm.fit_landscape(num_landscapes=1, resolution=5)"
   ]
  },
  {
   "cell_type": "code",
   "execution_count": 21,
   "id": "8411936a",
   "metadata": {},
   "outputs": [
    {
     "data": {
      "text/plain": [
       "array([[[0, 1],\n",
       "        [1, 2],\n",
       "        [2, 3],\n",
       "        [3, 4],\n",
       "        [4, 5]]])"
      ]
     },
     "execution_count": 21,
     "metadata": {},
     "output_type": "execute_result"
    }
   ],
   "source": [
    "dgm.gudhi_conversion(pairs)"
   ]
  },
  {
   "cell_type": "code",
   "execution_count": 25,
   "id": "b6fb0718",
   "metadata": {},
   "outputs": [
    {
     "data": {
      "text/html": [
       "<div>\n",
       "<style scoped>\n",
       "    .dataframe tbody tr th:only-of-type {\n",
       "        vertical-align: middle;\n",
       "    }\n",
       "\n",
       "    .dataframe tbody tr th {\n",
       "        vertical-align: top;\n",
       "    }\n",
       "\n",
       "    .dataframe thead th {\n",
       "        text-align: right;\n",
       "    }\n",
       "</style>\n",
       "<table border=\"1\" class=\"dataframe\">\n",
       "  <thead>\n",
       "    <tr style=\"text-align: right;\">\n",
       "      <th></th>\n",
       "      <th>hsanum</th>\n",
       "      <th>year</th>\n",
       "      <th>nnodes</th>\n",
       "      <th>nedges</th>\n",
       "      <th>density</th>\n",
       "      <th>degree_assortativity</th>\n",
       "      <th>Year</th>\n",
       "      <th>Medicare Enrollees</th>\n",
       "      <th>Total Mortality: ASR-adjusted Percent of Deaths among Medicare Enrollees</th>\n",
       "      <th>Non-HMO Mortality: ASR-adjusted Percent of Deaths among Medicare Enrollees without HMO Coverage</th>\n",
       "    </tr>\n",
       "  </thead>\n",
       "  <tbody>\n",
       "    <tr>\n",
       "      <th>count</th>\n",
       "      <td>3373.000000</td>\n",
       "      <td>3373.0</td>\n",
       "      <td>3373.000000</td>\n",
       "      <td>3373.000000</td>\n",
       "      <td>3373.000000</td>\n",
       "      <td>3084.000000</td>\n",
       "      <td>3373.0</td>\n",
       "      <td>3373.000000</td>\n",
       "      <td>3373.000000</td>\n",
       "      <td>3373.000000</td>\n",
       "    </tr>\n",
       "    <tr>\n",
       "      <th>mean</th>\n",
       "      <td>26294.644827</td>\n",
       "      <td>2017.0</td>\n",
       "      <td>160.050104</td>\n",
       "      <td>3020.277794</td>\n",
       "      <td>0.384735</td>\n",
       "      <td>-0.256330</td>\n",
       "      <td>2017.0</td>\n",
       "      <td>14254.713905</td>\n",
       "      <td>-2789.072229</td>\n",
       "      <td>-3922.165577</td>\n",
       "    </tr>\n",
       "    <tr>\n",
       "      <th>std</th>\n",
       "      <td>14803.076708</td>\n",
       "      <td>0.0</td>\n",
       "      <td>442.403598</td>\n",
       "      <td>8806.862733</td>\n",
       "      <td>0.273014</td>\n",
       "      <td>0.222516</td>\n",
       "      <td>0.0</td>\n",
       "      <td>27199.282753</td>\n",
       "      <td>15511.024953</td>\n",
       "      <td>18268.560698</td>\n",
       "    </tr>\n",
       "    <tr>\n",
       "      <th>min</th>\n",
       "      <td>1001.000000</td>\n",
       "      <td>2017.0</td>\n",
       "      <td>2.000000</td>\n",
       "      <td>1.000000</td>\n",
       "      <td>0.002833</td>\n",
       "      <td>-1.000000</td>\n",
       "      <td>2017.0</td>\n",
       "      <td>145.000000</td>\n",
       "      <td>-88888.000000</td>\n",
       "      <td>-88888.000000</td>\n",
       "    </tr>\n",
       "    <tr>\n",
       "      <th>25%</th>\n",
       "      <td>14112.000000</td>\n",
       "      <td>2017.0</td>\n",
       "      <td>12.000000</td>\n",
       "      <td>29.000000</td>\n",
       "      <td>0.181818</td>\n",
       "      <td>-0.356883</td>\n",
       "      <td>2017.0</td>\n",
       "      <td>2460.000000</td>\n",
       "      <td>3.910000</td>\n",
       "      <td>3.990000</td>\n",
       "    </tr>\n",
       "    <tr>\n",
       "      <th>50%</th>\n",
       "      <td>25038.000000</td>\n",
       "      <td>2017.0</td>\n",
       "      <td>36.000000</td>\n",
       "      <td>188.000000</td>\n",
       "      <td>0.316667</td>\n",
       "      <td>-0.279354</td>\n",
       "      <td>2017.0</td>\n",
       "      <td>5820.000000</td>\n",
       "      <td>4.390000</td>\n",
       "      <td>4.520000</td>\n",
       "    </tr>\n",
       "    <tr>\n",
       "      <th>75%</th>\n",
       "      <td>38050.000000</td>\n",
       "      <td>2017.0</td>\n",
       "      <td>127.000000</td>\n",
       "      <td>1678.000000</td>\n",
       "      <td>0.509091</td>\n",
       "      <td>-0.181302</td>\n",
       "      <td>2017.0</td>\n",
       "      <td>15088.000000</td>\n",
       "      <td>4.900000</td>\n",
       "      <td>5.070000</td>\n",
       "    </tr>\n",
       "    <tr>\n",
       "      <th>max</th>\n",
       "      <td>53026.000000</td>\n",
       "      <td>2017.0</td>\n",
       "      <td>7139.000000</td>\n",
       "      <td>136354.000000</td>\n",
       "      <td>1.000000</td>\n",
       "      <td>1.000000</td>\n",
       "      <td>2017.0</td>\n",
       "      <td>446752.000000</td>\n",
       "      <td>7.840000</td>\n",
       "      <td>8.010000</td>\n",
       "    </tr>\n",
       "  </tbody>\n",
       "</table>\n",
       "</div>"
      ],
      "text/plain": [
       "             hsanum    year       nnodes         nedges      density  \\\n",
       "count   3373.000000  3373.0  3373.000000    3373.000000  3373.000000   \n",
       "mean   26294.644827  2017.0   160.050104    3020.277794     0.384735   \n",
       "std    14803.076708     0.0   442.403598    8806.862733     0.273014   \n",
       "min     1001.000000  2017.0     2.000000       1.000000     0.002833   \n",
       "25%    14112.000000  2017.0    12.000000      29.000000     0.181818   \n",
       "50%    25038.000000  2017.0    36.000000     188.000000     0.316667   \n",
       "75%    38050.000000  2017.0   127.000000    1678.000000     0.509091   \n",
       "max    53026.000000  2017.0  7139.000000  136354.000000     1.000000   \n",
       "\n",
       "       degree_assortativity    Year  Medicare Enrollees  \\\n",
       "count           3084.000000  3373.0         3373.000000   \n",
       "mean              -0.256330  2017.0        14254.713905   \n",
       "std                0.222516     0.0        27199.282753   \n",
       "min               -1.000000  2017.0          145.000000   \n",
       "25%               -0.356883  2017.0         2460.000000   \n",
       "50%               -0.279354  2017.0         5820.000000   \n",
       "75%               -0.181302  2017.0        15088.000000   \n",
       "max                1.000000  2017.0       446752.000000   \n",
       "\n",
       "       Total Mortality: ASR-adjusted Percent of Deaths among Medicare Enrollees  \\\n",
       "count                                        3373.000000                          \n",
       "mean                                        -2789.072229                          \n",
       "std                                         15511.024953                          \n",
       "min                                        -88888.000000                          \n",
       "25%                                             3.910000                          \n",
       "50%                                             4.390000                          \n",
       "75%                                             4.900000                          \n",
       "max                                             7.840000                          \n",
       "\n",
       "       Non-HMO Mortality: ASR-adjusted Percent of Deaths among Medicare Enrollees without HMO Coverage  \n",
       "count                                        3373.000000                                                \n",
       "mean                                        -3922.165577                                                \n",
       "std                                         18268.560698                                                \n",
       "min                                        -88888.000000                                                \n",
       "25%                                             3.990000                                                \n",
       "50%                                             4.520000                                                \n",
       "75%                                             5.070000                                                \n",
       "max                                             8.010000                                                "
      ]
     },
     "execution_count": 25,
     "metadata": {},
     "output_type": "execute_result"
    }
   ],
   "source": [
    "join.describe()"
   ]
  },
  {
   "cell_type": "code",
   "execution_count": 1,
   "id": "2e6ead7f",
   "metadata": {},
   "outputs": [],
   "source": [
    "import pandas as pd\n",
    "df = pd.read_csv(\"/Users/jeremy.wayland/Desktop/projects/apparent/data/network_panel_undirected_local_hsa_edges.csv.gz\",compression=\"gzip\")"
   ]
  },
  {
   "cell_type": "code",
   "execution_count": 2,
   "id": "7ba1f3b2",
   "metadata": {},
   "outputs": [
    {
     "data": {
      "text/html": [
       "<div>\n",
       "<style scoped>\n",
       "    .dataframe tbody tr th:only-of-type {\n",
       "        vertical-align: middle;\n",
       "    }\n",
       "\n",
       "    .dataframe tbody tr th {\n",
       "        vertical-align: top;\n",
       "    }\n",
       "\n",
       "    .dataframe thead th {\n",
       "        text-align: right;\n",
       "    }\n",
       "</style>\n",
       "<table border=\"1\" class=\"dataframe\">\n",
       "  <thead>\n",
       "    <tr style=\"text-align: right;\">\n",
       "      <th></th>\n",
       "      <th>year</th>\n",
       "      <th>hsanum</th>\n",
       "      <th>npi_a</th>\n",
       "      <th>npi_b</th>\n",
       "      <th>a2b</th>\n",
       "      <th>b2a</th>\n",
       "    </tr>\n",
       "  </thead>\n",
       "  <tbody>\n",
       "    <tr>\n",
       "      <th>0</th>\n",
       "      <td>2014</td>\n",
       "      <td>1001</td>\n",
       "      <td>1750540035</td>\n",
       "      <td>1982684999</td>\n",
       "      <td>0</td>\n",
       "      <td>2</td>\n",
       "    </tr>\n",
       "    <tr>\n",
       "      <th>1</th>\n",
       "      <td>2014</td>\n",
       "      <td>1001</td>\n",
       "      <td>1245433648</td>\n",
       "      <td>1982684999</td>\n",
       "      <td>7</td>\n",
       "      <td>3</td>\n",
       "    </tr>\n",
       "    <tr>\n",
       "      <th>2</th>\n",
       "      <td>2014</td>\n",
       "      <td>1001</td>\n",
       "      <td>1841384724</td>\n",
       "      <td>1982684999</td>\n",
       "      <td>12</td>\n",
       "      <td>5</td>\n",
       "    </tr>\n",
       "    <tr>\n",
       "      <th>3</th>\n",
       "      <td>2014</td>\n",
       "      <td>1001</td>\n",
       "      <td>1003029869</td>\n",
       "      <td>1982684999</td>\n",
       "      <td>2</td>\n",
       "      <td>4</td>\n",
       "    </tr>\n",
       "    <tr>\n",
       "      <th>4</th>\n",
       "      <td>2014</td>\n",
       "      <td>1001</td>\n",
       "      <td>1902845829</td>\n",
       "      <td>1982684999</td>\n",
       "      <td>6</td>\n",
       "      <td>2</td>\n",
       "    </tr>\n",
       "    <tr>\n",
       "      <th>...</th>\n",
       "      <td>...</td>\n",
       "      <td>...</td>\n",
       "      <td>...</td>\n",
       "      <td>...</td>\n",
       "      <td>...</td>\n",
       "      <td>...</td>\n",
       "    </tr>\n",
       "    <tr>\n",
       "      <th>39140695</th>\n",
       "      <td>2017</td>\n",
       "      <td>53026</td>\n",
       "      <td>1043415987</td>\n",
       "      <td>1164521977</td>\n",
       "      <td>0</td>\n",
       "      <td>138</td>\n",
       "    </tr>\n",
       "    <tr>\n",
       "      <th>39140696</th>\n",
       "      <td>2017</td>\n",
       "      <td>53026</td>\n",
       "      <td>1164521977</td>\n",
       "      <td>1962523126</td>\n",
       "      <td>27</td>\n",
       "      <td>35</td>\n",
       "    </tr>\n",
       "    <tr>\n",
       "      <th>39140697</th>\n",
       "      <td>2017</td>\n",
       "      <td>53026</td>\n",
       "      <td>1164521977</td>\n",
       "      <td>1952761264</td>\n",
       "      <td>94</td>\n",
       "      <td>108</td>\n",
       "    </tr>\n",
       "    <tr>\n",
       "      <th>39140698</th>\n",
       "      <td>2017</td>\n",
       "      <td>53026</td>\n",
       "      <td>1043415987</td>\n",
       "      <td>1962523126</td>\n",
       "      <td>0</td>\n",
       "      <td>14</td>\n",
       "    </tr>\n",
       "    <tr>\n",
       "      <th>39140699</th>\n",
       "      <td>2017</td>\n",
       "      <td>53026</td>\n",
       "      <td>1043415987</td>\n",
       "      <td>1952761264</td>\n",
       "      <td>100</td>\n",
       "      <td>19</td>\n",
       "    </tr>\n",
       "  </tbody>\n",
       "</table>\n",
       "<p>39140700 rows × 6 columns</p>\n",
       "</div>"
      ],
      "text/plain": [
       "          year  hsanum       npi_a       npi_b  a2b  b2a\n",
       "0         2014    1001  1750540035  1982684999    0    2\n",
       "1         2014    1001  1245433648  1982684999    7    3\n",
       "2         2014    1001  1841384724  1982684999   12    5\n",
       "3         2014    1001  1003029869  1982684999    2    4\n",
       "4         2014    1001  1902845829  1982684999    6    2\n",
       "...        ...     ...         ...         ...  ...  ...\n",
       "39140695  2017   53026  1043415987  1164521977    0  138\n",
       "39140696  2017   53026  1164521977  1962523126   27   35\n",
       "39140697  2017   53026  1164521977  1952761264   94  108\n",
       "39140698  2017   53026  1043415987  1962523126    0   14\n",
       "39140699  2017   53026  1043415987  1952761264  100   19\n",
       "\n",
       "[39140700 rows x 6 columns]"
      ]
     },
     "execution_count": 2,
     "metadata": {},
     "output_type": "execute_result"
    }
   ],
   "source": [
    "df"
   ]
  },
  {
   "cell_type": "code",
   "execution_count": null,
   "id": "6a86c30b",
   "metadata": {},
   "outputs": [],
   "source": []
  }
 ],
 "metadata": {
  "kernelspec": {
   "display_name": "Python 3 (ipykernel)",
   "language": "python",
   "name": "python3"
  },
  "language_info": {
   "codemirror_mode": {
    "name": "ipython",
    "version": 3
   },
   "file_extension": ".py",
   "mimetype": "text/x-python",
   "name": "python",
   "nbconvert_exporter": "python",
   "pygments_lexer": "ipython3",
   "version": "3.12.3"
  }
 },
 "nbformat": 4,
 "nbformat_minor": 5
}
