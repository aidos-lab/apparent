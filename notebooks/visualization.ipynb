{
 "cells": [
  {
   "cell_type": "markdown",
   "id": "2c4bc3e2-e3f5-4e59-a215-1076579c40b4",
   "metadata": {},
   "source": [
    "### Basic Data Viz"
   ]
  },
  {
   "cell_type": "code",
   "execution_count": 22,
   "id": "db2c07c5-56a0-4f17-a426-c006f50d7657",
   "metadata": {},
   "outputs": [],
   "source": [
    "import pandas as pd\n",
    "import numpy as np\n",
    "import networkx as nx\n",
    "import matplotlib.pyplot as plt\n",
    "import seaborn as sns"
   ]
  },
  {
   "cell_type": "code",
   "execution_count": 2,
   "id": "9c29a6a7-a8a0-4b41-8b2c-cdc39d3cb9ba",
   "metadata": {},
   "outputs": [],
   "source": [
    "df = pd.read_pickle(\"../data/2017_US_Networks/all_features.pkl\")"
   ]
  },
  {
   "cell_type": "code",
   "execution_count": 98,
   "id": "f1a40b9a-c835-4139-b53a-53dbb8591eef",
   "metadata": {},
   "outputs": [],
   "source": [
    "df.forman_curvature = df.forman_curvature.apply(list)\n",
    "df[\"forman_mean\"] = df.forman_curvature.apply(np.mean)\n",
    "df[\"forman_mean_log\"] = df.forman_mean.apply(np.log)\n",
    "df = df.query(\"total_mortality != -88888 and non_hmo_mortality != -88888 \").copy()"
   ]
  },
  {
   "cell_type": "code",
   "execution_count": 99,
   "id": "8a663fbd-65ef-4c97-9af0-80fd394b99c6",
   "metadata": {},
   "outputs": [
    {
     "data": {
      "text/plain": [
       "array(['hsanum', 'region', 'state', 'medicare_enrollment',\n",
       "       'total_mortality', 'non_hmo_mortality', 'forman_curvature',\n",
       "       'n_nodes', 'n_edges', 'density'], dtype=object)"
      ]
     },
     "execution_count": 99,
     "metadata": {},
     "output_type": "execute_result"
    }
   ],
   "source": [
    "df.columns.values[:10]"
   ]
  },
  {
   "cell_type": "code",
   "execution_count": 100,
   "id": "06103f41-1b4e-4e09-a9e0-e0d6554989ca",
   "metadata": {},
   "outputs": [],
   "source": [
    "vars_ = [\n",
    " 'medicare_enrollment',\n",
    " 'total_mortality',\n",
    " 'non_hmo_mortality',\n",
    " 'race_total_pop',\n",
    " 'race_black_pop',\n",
    " 'hispanic_total_pop',\n",
    " 'hispanic_pop',\n",
    " 'median_hh_income',\n",
    " 'employment_pop',\n",
    " 'employment_unemployed_pop',\n",
    " 'education_pop',\n",
    " 'education_nohs_pop']"
   ]
  },
  {
   "cell_type": "code",
   "execution_count": 118,
   "id": "f488c9b0-d1bd-43a2-a9ef-aa97d8393f48",
   "metadata": {},
   "outputs": [],
   "source": [
    "import matplotlib as mpl"
   ]
  },
  {
   "cell_type": "code",
   "execution_count": 130,
   "id": "daa26aa8-4c06-47c0-9ff5-93dabe0bb05e",
   "metadata": {},
   "outputs": [],
   "source": [
    "cmap = mpl.colormaps[\"tab10\"]"
   ]
  },
  {
   "cell_type": "code",
   "execution_count": 131,
   "id": "c432acba-e541-44c8-946e-be2e44888f6f",
   "metadata": {},
   "outputs": [
    {
     "data": {
      "image/png": "[encoded data removed]",
      "text/html": [
       "<div style=\"vertical-align: middle;\"><strong>tab10</strong> </div><div class=\"cmap\"><img alt=\"tab10 colormap\" title=\"tab10\" style=\"border: 1px solid #555;\" src=\"data:image/png;base64,iVBORw0KGgoAAAANSUhEUgAAAgAAAABACAYAAABsv8+/AAAAFHRFWHRUaXRsZQB0YWIxMCBjb2xvcm1hcFeJcQsAAAAadEVYdERlc2NyaXB0aW9uAHRhYjEwIGNvbG9ybWFwqdbY7QAAADB0RVh0QXV0aG9yAE1hdHBsb3RsaWIgdjMuOC40LCBodHRwczovL21hdHBsb3RsaWIub3JnZM6ytAAAADJ0RVh0U29mdHdhcmUATWF0cGxvdGxpYiB2My44LjQsIGh0dHBzOi8vbWF0cGxvdGxpYi5vcmdKaC2TAAABeklEQVR4nO3WsS0EcBxAYae6KcgNYARiCwmD3AjX6a67TifRaZnFBlqFhCX+8Uu875vglW9zuX/9OftHPrb30wnLXO0uphOWeT58Tycs8357nE5Y5uvzcTphmbvdfjphmdP2bTphmeubp+mEZR42L9MJS51PBwAAf88AAECQAQCAIAMAAEEGAACCDAAABBkAAAgyAAAQZAAAIMgAAECQAQCAIAMAAEEGAACCDAAABBkAAAgyAAAQZAAAIMgAAECQAQCAIAMAAEEGAACCDAAABBkAAAgyAAAQZAAAIMgAAECQAQCAIAMAAEEGAACCDAAABBkAAAgyAAAQZAAAIMgAAECQAQCAIAMAAEEGAACCDAAABBkAAAgyAAAQZAAAIMgAAECQAQCAIAMAAEEGAACCDAAABBkAAAgyAAAQZAAAIMgAAECQAQCAIAMAAEEGAACCDAAABBkAAAgyAAAQZAAAIMgAAECQAQCAIAMAAEEGAACCDAAABBkAAAj6BcEgDyNmiQL1AAAAAElFTkSuQmCC\"></div><div style=\"vertical-align: middle; max-width: 514px; display: flex; justify-content: space-between;\"><div style=\"float: left;\"><div title=\"#1f77b4ff\" style=\"display: inline-block; width: 1em; height: 1em; margin: 0; vertical-align: middle; border: 1px solid #555; background-color: #1f77b4ff;\"></div> under</div><div style=\"margin: 0 auto; display: inline-block;\">bad <div title=\"#00000000\" style=\"display: inline-block; width: 1em; height: 1em; margin: 0; vertical-align: middle; border: 1px solid #555; background-color: #00000000;\"></div></div><div style=\"float: right;\">over <div title=\"#17becfff\" style=\"display: inline-block; width: 1em; height: 1em; margin: 0; vertical-align: middle; border: 1px solid #555; background-color: #17becfff;\"></div></div>"
      ],
      "text/plain": [
       "<matplotlib.colors.ListedColormap at 0x1449b02b0>"
      ]
     },
     "execution_count": 131,
     "metadata": {},
     "output_type": "execute_result"
    }
   ],
   "source": [
    "cmap"
   ]
  },
  {
   "cell_type": "code",
   "execution_count": 132,
   "id": "699f3018-5a9f-444d-9eb2-49cb3d6b5195",
   "metadata": {},
   "outputs": [],
   "source": [
    "sorted_regions = sorted(df.region.unique(), key=lambda string: int(string.split()[1]))"
   ]
  },
  {
   "cell_type": "code",
   "execution_count": 141,
   "id": "92bfe49e-d00e-4a5a-895b-88366502750a",
   "metadata": {},
   "outputs": [],
   "source": [
    "def prettify(reg):\n",
    "    return reg.replace(\" \", \"\")"
   ]
  },
  {
   "cell_type": "markdown",
   "id": "38fb7430-1e39-4d4a-a042-633a54a96f91",
   "metadata": {},
   "source": [
    "#### Note\n",
    "In the following, all but the mortalities are scaled logarithmically, which makes it harder to interpret the plots (especially when axes are mixed). \n",
    "Beware that we are not looking at linear correlations here (except when examining mortalities on x and y)."
   ]
  },
  {
   "cell_type": "code",
   "execution_count": null,
   "id": "1dbaf925-529f-4d91-8836-fca049b3ba8d",
   "metadata": {},
   "outputs": [],
   "source": [
    "y_var = \"forman_mean\"\n",
    "for idx,reg in enumerate(sorted_regions):\n",
    "    g = sns.pairplot(data=df.query(\"region == @reg\"), y_vars=[y_var], x_vars=vars_, hue=\"region\", palette=[cmap(idx/len(sorted_regions))])\n",
    "    for i in [0,3,4,5,6,7,8,9,10,11]:\n",
    "        g.axes[0,i].set_xscale(\"log\")\n",
    "    plt.savefig(f\"../figures/{prettify(reg)}_{y_var}_vs_population-statistics.pdf\", bbox_inches=\"tight\", transparent=True)"
   ]
  },
  {
   "cell_type": "code",
   "execution_count": null,
   "id": "72b36d7b-855c-4706-8589-9d86ae3cefc2",
   "metadata": {},
   "outputs": [],
   "source": [
    "for idx,reg in enumerate(sorted_regions):\n",
    "    g = sns.pairplot(data=df.query(\"region == @reg\"), y_vars=vars_, x_vars=vars_, hue=\"region\", palette=[cmap(idx/len(sorted_regions))])\n",
    "    for i in [0,3,4,5,6,7,8,9,10,11]:\n",
    "        for j in range(11):\n",
    "            g.axes[j,i].set_xscale(\"log\")\n",
    "            g.axes[i,j].set_yscale(\"log\")\n",
    "    plt.savefig(f\"../figures/{prettify(reg)}_population-statistics.pdf\", bbox_inches=\"tight\", transparent=True)"
   ]
  },
  {
   "cell_type": "markdown",
   "id": "df9fd0ce-35c6-42ba-887d-4f16b707d432",
   "metadata": {},
   "source": [
    "### Grouping variables"
   ]
  },
  {
   "cell_type": "code",
   "execution_count": 87,
   "id": "bb115846-ee6a-4f24-961c-311e1a1d70c9",
   "metadata": {},
   "outputs": [],
   "source": [
    "group_prefixes = [\"oear\", \"obd\", \"cr\", \"ar\", \"ptl\", \"oecr\", \"oe\", \"expa\", \"exp\"]\n",
    "columns_dict = {p:list() for p in group_prefixes}\n",
    "other_columns = list()\n",
    "for x in df.columns.values:\n",
    "    prefix, rest = x.split('_', 1) if \"_\" in x else (x, \"\")\n",
    "    if prefix in group_prefixes:\n",
    "        columns_dict[prefix].append(x)\n",
    "    else:\n",
    "        other_columns.append(x)"
   ]
  },
  {
   "cell_type": "code",
   "execution_count": 88,
   "id": "f8bba7de-7d20-4a88-be3a-cfa864714e13",
   "metadata": {},
   "outputs": [
    {
     "data": {
      "text/plain": [
       "['hsanum',\n",
       " 'region',\n",
       " 'state',\n",
       " 'medicare_enrollment',\n",
       " 'total_mortality',\n",
       " 'non_hmo_mortality',\n",
       " 'forman_curvature',\n",
       " 'n_nodes',\n",
       " 'n_edges',\n",
       " 'density',\n",
       " 'assortativity',\n",
       " 'average_degrees',\n",
       " 'clustering_coefficients',\n",
       " 'node_connectivities',\n",
       " 'degree_correlations',\n",
       " 'race_total_pop',\n",
       " 'race_black_pop',\n",
       " 'hispanic_total_pop',\n",
       " 'hispanic_pop',\n",
       " 'median_hh_income',\n",
       " 'employment_pop',\n",
       " 'employment_unemployed_pop',\n",
       " 'education_pop',\n",
       " 'education_nohs_pop',\n",
       " 'forman_mean',\n",
       " 'forman_mean_log']"
      ]
     },
     "execution_count": 88,
     "metadata": {},
     "output_type": "execute_result"
    }
   ],
   "source": [
    "other_columns"
   ]
  },
  {
   "cell_type": "code",
   "execution_count": 89,
   "id": "15d29909-8e28-481d-92c2-39bf49e2d052",
   "metadata": {},
   "outputs": [
    {
     "data": {
      "text/plain": [
       "{'oear': ['oear_pt_asr_ami_anyac',\n",
       "  'oear_pt_asr_ami_aoervis',\n",
       "  'oear_pt_asr_ami_mdac',\n",
       "  'oear_pt_asr_ami_readmit',\n",
       "  'oear_pt_asr_chf_anyac',\n",
       "  'oear_pt_asr_chf_aoervis',\n",
       "  'oear_pt_asr_chf_mdac',\n",
       "  'oear_pt_asr_chf_readmit',\n",
       "  'oear_pt_asr_med_anyac',\n",
       "  'oear_pt_asr_med_aoervis',\n",
       "  'oear_pt_asr_med_mdac',\n",
       "  'oear_pt_asr_med_readmit',\n",
       "  'oear_pt_asr_pn_anyac',\n",
       "  'oear_pt_asr_pn_aoervis',\n",
       "  'oear_pt_asr_pn_mdac',\n",
       "  'oear_pt_asr_pn_readmit',\n",
       "  'oear_pt_asr_sur_aoervis',\n",
       "  'oear_pt_asr_sur_mdac',\n",
       "  'oear_pt_asr_sur_readmit'],\n",
       " 'obd': ['obd_overall_diab_bloodlip',\n",
       "  'obd_nonblk_diab_bloodlip',\n",
       "  'obd_blk_diab_bloodlip',\n",
       "  'obd_blk_diab_eye',\n",
       "  'obd_overall_diab_eye',\n",
       "  'obd_nonblk_diab_eye',\n",
       "  'obd_overall_diab_hgb',\n",
       "  'obd_blk_diab_hgb',\n",
       "  'obd_nonblk_diab_hgb',\n",
       "  'obd_overall_mam_mam6769',\n",
       "  'obd_nonblk_mam_mam6769',\n",
       "  'obd_blk_mam_mam6769',\n",
       "  'obd_nonblk_ptbjune_amcare2',\n",
       "  'obd_blk_ptbjune_amcare2',\n",
       "  'obd_overall_ptbjune_amcare2',\n",
       "  'obd_pt_asr_ami_anyac',\n",
       "  'obd_pt_asr_ami_aoervis',\n",
       "  'obd_pt_asr_ami_mdac',\n",
       "  'obd_pt_asr_ami_readmit',\n",
       "  'obd_pt_asr_chf_anyac',\n",
       "  'obd_pt_asr_chf_aoervis',\n",
       "  'obd_pt_asr_chf_mdac',\n",
       "  'obd_pt_asr_chf_readmit',\n",
       "  'obd_pt_asr_med_anyac',\n",
       "  'obd_pt_asr_med_aoervis',\n",
       "  'obd_pt_asr_med_mdac',\n",
       "  'obd_pt_asr_med_readmit',\n",
       "  'obd_pt_asr_pn_anyac',\n",
       "  'obd_pt_asr_pn_aoervis',\n",
       "  'obd_pt_asr_pn_mdac',\n",
       "  'obd_pt_asr_pn_readmit',\n",
       "  'obd_pt_asr_sur_aoervis',\n",
       "  'obd_pt_asr_sur_mdac',\n",
       "  'obd_pt_asr_sur_readmit'],\n",
       " 'cr': ['cr_overall_diab_bloodlip',\n",
       "  'cr_nonblk_diab_bloodlip',\n",
       "  'cr_blk_diab_bloodlip',\n",
       "  'cr_blk_diab_eye',\n",
       "  'cr_overall_diab_eye',\n",
       "  'cr_nonblk_diab_eye',\n",
       "  'cr_overall_diab_hgb',\n",
       "  'cr_blk_diab_hgb',\n",
       "  'cr_nonblk_diab_hgb',\n",
       "  'cr_overall_mam_mam6769',\n",
       "  'cr_nonblk_mam_mam6769',\n",
       "  'cr_blk_mam_mam6769',\n",
       "  'cr_nonblk_ptbjune_amcare2',\n",
       "  'cr_blk_ptbjune_amcare2',\n",
       "  'cr_overall_ptbjune_amcare2',\n",
       "  'cr_pt_asr_ami_anyac',\n",
       "  'cr_pt_asr_ami_aoervis',\n",
       "  'cr_pt_asr_ami_mdac',\n",
       "  'cr_pt_asr_ami_readmit',\n",
       "  'cr_pt_asr_chf_anyac',\n",
       "  'cr_pt_asr_chf_aoervis',\n",
       "  'cr_pt_asr_chf_mdac',\n",
       "  'cr_pt_asr_chf_readmit',\n",
       "  'cr_pt_asr_med_anyac',\n",
       "  'cr_pt_asr_med_aoervis',\n",
       "  'cr_pt_asr_med_mdac',\n",
       "  'cr_pt_asr_med_readmit',\n",
       "  'cr_pt_asr_pn_anyac',\n",
       "  'cr_pt_asr_pn_aoervis',\n",
       "  'cr_pt_asr_pn_mdac',\n",
       "  'cr_pt_asr_pn_readmit',\n",
       "  'cr_pt_asr_sur_aoervis',\n",
       "  'cr_pt_asr_sur_mdac',\n",
       "  'cr_pt_asr_sur_readmit'],\n",
       " 'ar': ['ar_overall_diab_bloodlip',\n",
       "  'ar_nonblk_diab_bloodlip',\n",
       "  'ar_blk_diab_bloodlip',\n",
       "  'ar_blk_diab_eye',\n",
       "  'ar_overall_diab_eye',\n",
       "  'ar_nonblk_diab_eye',\n",
       "  'ar_overall_diab_hgb',\n",
       "  'ar_blk_diab_hgb',\n",
       "  'ar_nonblk_diab_hgb',\n",
       "  'ar_overall_mam_mam6769',\n",
       "  'ar_nonblk_mam_mam6769',\n",
       "  'ar_blk_mam_mam6769',\n",
       "  'ar_nonblk_ptbjune_amcare2',\n",
       "  'ar_blk_ptbjune_amcare2',\n",
       "  'ar_overall_ptbjune_amcare2',\n",
       "  'ar_pt_asr_ami_anyac',\n",
       "  'ar_pt_asr_ami_aoervis',\n",
       "  'ar_pt_asr_ami_mdac',\n",
       "  'ar_pt_asr_ami_readmit',\n",
       "  'ar_pt_asr_chf_anyac',\n",
       "  'ar_pt_asr_chf_aoervis',\n",
       "  'ar_pt_asr_chf_mdac',\n",
       "  'ar_pt_asr_chf_readmit',\n",
       "  'ar_pt_asr_med_anyac',\n",
       "  'ar_pt_asr_med_aoervis',\n",
       "  'ar_pt_asr_med_mdac',\n",
       "  'ar_pt_asr_med_readmit',\n",
       "  'ar_pt_asr_pn_anyac',\n",
       "  'ar_pt_asr_pn_aoervis',\n",
       "  'ar_pt_asr_pn_mdac',\n",
       "  'ar_pt_asr_pn_readmit',\n",
       "  'ar_pt_asr_sur_aoervis',\n",
       "  'ar_pt_asr_sur_mdac',\n",
       "  'ar_pt_asr_sur_readmit',\n",
       "  'ar_pmt_dme',\n",
       "  'ar_pmt_hha',\n",
       "  'ar_pmt_hospice',\n",
       "  'ar_pmt_hospitalsnf',\n",
       "  'ar_pmt_outpt',\n",
       "  'ar_pmt_physician',\n",
       "  'ar_pmt_total',\n",
       "  'ar_stdprice_dme',\n",
       "  'ar_stdprice_hha',\n",
       "  'ar_stdprice_hospice',\n",
       "  'ar_stdprice_hospitalsnf',\n",
       "  'ar_stdprice_outpt',\n",
       "  'ar_stdprice_physician',\n",
       "  'ar_stdprice_total'],\n",
       " 'ptl': ['ptl_overall_diab_bloodlip',\n",
       "  'ptl_nonblk_diab_bloodlip',\n",
       "  'ptl_blk_diab_bloodlip',\n",
       "  'ptl_blk_diab_eye',\n",
       "  'ptl_overall_diab_eye',\n",
       "  'ptl_nonblk_diab_eye',\n",
       "  'ptl_overall_diab_hgb',\n",
       "  'ptl_blk_diab_hgb',\n",
       "  'ptl_nonblk_diab_hgb',\n",
       "  'ptl_overall_mam_mam6769',\n",
       "  'ptl_nonblk_mam_mam6769',\n",
       "  'ptl_blk_mam_mam6769',\n",
       "  'ptl_nonblk_ptbjune_amcare2',\n",
       "  'ptl_blk_ptbjune_amcare2',\n",
       "  'ptl_overall_ptbjune_amcare2',\n",
       "  'ptl_pt_asr_ami_anyac',\n",
       "  'ptl_pt_asr_ami_aoervis',\n",
       "  'ptl_pt_asr_ami_mdac',\n",
       "  'ptl_pt_asr_ami_readmit',\n",
       "  'ptl_pt_asr_chf_anyac',\n",
       "  'ptl_pt_asr_chf_aoervis',\n",
       "  'ptl_pt_asr_chf_mdac',\n",
       "  'ptl_pt_asr_chf_readmit',\n",
       "  'ptl_pt_asr_med_anyac',\n",
       "  'ptl_pt_asr_med_aoervis',\n",
       "  'ptl_pt_asr_med_mdac',\n",
       "  'ptl_pt_asr_med_readmit',\n",
       "  'ptl_pt_asr_pn_anyac',\n",
       "  'ptl_pt_asr_pn_aoervis',\n",
       "  'ptl_pt_asr_pn_mdac',\n",
       "  'ptl_pt_asr_pn_readmit',\n",
       "  'ptl_pt_asr_sur_aoervis',\n",
       "  'ptl_pt_asr_sur_mdac',\n",
       "  'ptl_pt_asr_sur_readmit',\n",
       "  'ptl_pmt_dme',\n",
       "  'ptl_pmt_hha',\n",
       "  'ptl_pmt_hospice',\n",
       "  'ptl_pmt_hospitalsnf',\n",
       "  'ptl_pmt_outpt',\n",
       "  'ptl_pmt_physician',\n",
       "  'ptl_pmt_total',\n",
       "  'ptl_stdprice_dme',\n",
       "  'ptl_stdprice_hha',\n",
       "  'ptl_stdprice_hospice',\n",
       "  'ptl_stdprice_hospitalsnf',\n",
       "  'ptl_stdprice_outpt',\n",
       "  'ptl_stdprice_physician',\n",
       "  'ptl_stdprice_total'],\n",
       " 'oecr': ['oecr_pt_asr_ami_anyac',\n",
       "  'oecr_pt_asr_ami_aoervis',\n",
       "  'oecr_pt_asr_ami_mdac',\n",
       "  'oecr_pt_asr_ami_readmit',\n",
       "  'oecr_pt_asr_chf_anyac',\n",
       "  'oecr_pt_asr_chf_aoervis',\n",
       "  'oecr_pt_asr_chf_mdac',\n",
       "  'oecr_pt_asr_chf_readmit',\n",
       "  'oecr_pt_asr_med_anyac',\n",
       "  'oecr_pt_asr_med_aoervis',\n",
       "  'oecr_pt_asr_med_mdac',\n",
       "  'oecr_pt_asr_med_readmit',\n",
       "  'oecr_pt_asr_pn_anyac',\n",
       "  'oecr_pt_asr_pn_aoervis',\n",
       "  'oecr_pt_asr_pn_mdac',\n",
       "  'oecr_pt_asr_pn_readmit',\n",
       "  'oecr_pt_asr_sur_aoervis',\n",
       "  'oecr_pt_asr_sur_mdac',\n",
       "  'oecr_pt_asr_sur_readmit'],\n",
       " 'oe': ['oe_overall_diab_bloodlip',\n",
       "  'oe_nonblk_diab_bloodlip',\n",
       "  'oe_blk_diab_bloodlip',\n",
       "  'oe_blk_diab_eye',\n",
       "  'oe_overall_diab_eye',\n",
       "  'oe_nonblk_diab_eye',\n",
       "  'oe_overall_diab_hgb',\n",
       "  'oe_blk_diab_hgb',\n",
       "  'oe_nonblk_diab_hgb',\n",
       "  'oe_overall_mam_mam6769',\n",
       "  'oe_nonblk_mam_mam6769',\n",
       "  'oe_blk_mam_mam6769',\n",
       "  'oe_nonblk_ptbjune_amcare2',\n",
       "  'oe_blk_ptbjune_amcare2',\n",
       "  'oe_overall_ptbjune_amcare2',\n",
       "  'oe_pmt_dme',\n",
       "  'oe_pmt_hha',\n",
       "  'oe_pmt_hospice',\n",
       "  'oe_pmt_hospitalsnf',\n",
       "  'oe_pmt_outpt',\n",
       "  'oe_pmt_physician',\n",
       "  'oe_pmt_total',\n",
       "  'oe_stdprice_dme',\n",
       "  'oe_stdprice_hha',\n",
       "  'oe_stdprice_hospice',\n",
       "  'oe_stdprice_hospitalsnf',\n",
       "  'oe_stdprice_outpt',\n",
       "  'oe_stdprice_physician',\n",
       "  'oe_stdprice_total'],\n",
       " 'expa': ['expa_pt_asr_ami_anyac',\n",
       "  'expa_pt_asr_ami_aoervis',\n",
       "  'expa_pt_asr_ami_mdac',\n",
       "  'expa_pt_asr_ami_readmit',\n",
       "  'expa_pt_asr_chf_anyac',\n",
       "  'expa_pt_asr_chf_aoervis',\n",
       "  'expa_pt_asr_chf_mdac',\n",
       "  'expa_pt_asr_chf_readmit',\n",
       "  'expa_pt_asr_med_anyac',\n",
       "  'expa_pt_asr_med_aoervis',\n",
       "  'expa_pt_asr_med_mdac',\n",
       "  'expa_pt_asr_med_readmit',\n",
       "  'expa_pt_asr_pn_anyac',\n",
       "  'expa_pt_asr_pn_aoervis',\n",
       "  'expa_pt_asr_pn_mdac',\n",
       "  'expa_pt_asr_pn_readmit',\n",
       "  'expa_pt_asr_sur_aoervis',\n",
       "  'expa_pt_asr_sur_mdac',\n",
       "  'expa_pt_asr_sur_readmit'],\n",
       " 'exp': ['exp_pt_asr_ami_anyac',\n",
       "  'exp_pt_asr_ami_aoervis',\n",
       "  'exp_pt_asr_ami_mdac',\n",
       "  'exp_pt_asr_ami_readmit',\n",
       "  'exp_pt_asr_chf_anyac',\n",
       "  'exp_pt_asr_chf_aoervis',\n",
       "  'exp_pt_asr_chf_mdac',\n",
       "  'exp_pt_asr_chf_readmit',\n",
       "  'exp_pt_asr_med_anyac',\n",
       "  'exp_pt_asr_med_aoervis',\n",
       "  'exp_pt_asr_med_mdac',\n",
       "  'exp_pt_asr_med_readmit',\n",
       "  'exp_pt_asr_pn_anyac',\n",
       "  'exp_pt_asr_pn_aoervis',\n",
       "  'exp_pt_asr_pn_mdac',\n",
       "  'exp_pt_asr_pn_readmit',\n",
       "  'exp_pt_asr_sur_aoervis',\n",
       "  'exp_pt_asr_sur_mdac',\n",
       "  'exp_pt_asr_sur_readmit']}"
      ]
     },
     "execution_count": 89,
     "metadata": {},
     "output_type": "execute_result"
    }
   ],
   "source": [
    "columns_dict"
   ]
  },
  {
   "cell_type": "code",
   "execution_count": null,
   "id": "b1bd7807-d0aa-40b8-8958-70565c2e99d0",
   "metadata": {},
   "outputs": [],
   "source": []
  }
 ],
 "metadata": {
  "kernelspec": {
   "display_name": "Python 3 (ipykernel)",
   "language": "python",
   "name": "python3"
  },
  "language_info": {
   "codemirror_mode": {
    "name": "ipython",
    "version": 3
   },
   "file_extension": ".py",
   "mimetype": "text/x-python",
   "name": "python",
   "nbconvert_exporter": "python",
   "pygments_lexer": "ipython3",
   "version": "3.10.10"
  }
 },
 "nbformat": 4,
 "nbformat_minor": 5
}
