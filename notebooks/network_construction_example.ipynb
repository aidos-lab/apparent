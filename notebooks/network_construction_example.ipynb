{
 "cells": [
  {
   "cell_type": "markdown",
   "id": "6b63d252-a648-4979-b274-7dce09a7def8",
   "metadata": {},
   "source": [
    "# Network construction example\n",
    "\n",
    "Illustrate how to construct a networkx graph from the physician network data.\n",
    "\n",
    "# Preliminaries"
   ]
  },
  {
   "cell_type": "code",
   "execution_count": 1,
   "id": "d70d1c8e-3c27-4a8f-979a-72983f51c069",
   "metadata": {},
   "outputs": [],
   "source": [
    "# load some packages\n",
    "import pandas as pd\n",
    "import networkx as nx\n",
    "import numpy as np\n",
    "import config # edit data path in here"
   ]
  },
  {
   "cell_type": "markdown",
   "id": "f837c8ee-39d3-4934-ac19-7e7ef67b2937",
   "metadata": {},
   "source": [
    "# Load the data"
   ]
  },
  {
   "cell_type": "code",
   "execution_count": 2,
   "id": "8fc863f8-84d4-44f4-9eb5-aba630452f65",
   "metadata": {},
   "outputs": [],
   "source": [
    "# load edges_df\n",
    "edges_df = pd.read_csv(config.DATA_PATH + \"data/network_panel_undirected_local_hsa_edges.csv.gz\")"
   ]
  },
  {
   "cell_type": "markdown",
   "id": "3db55064-f566-470b-bbd0-ad6f9158e0f1",
   "metadata": {},
   "source": [
    "### edges_df codebook\n",
    "* __year__ is the year of observation\n",
    "* __hsanum__ is the identifier for the region\n",
    "* __npi_a__ is the unique identifier for physician a\n",
    "* __npi_b__ is the unique identifier for physician b\n",
    "* __a2b__ is the number of patients who were referred from physician a to physician b (could be used for edge weighting)\n",
    "* __b2a__ is the number of patients who were referred from physician b to physician a (could be used for edge weighting)"
   ]
  },
  {
   "cell_type": "markdown",
   "id": "a8519b1e-26c0-4e7b-bbb1-8b17effed9e1",
   "metadata": {},
   "source": [
    "# Functions"
   ]
  },
  {
   "cell_type": "code",
   "execution_count": 3,
   "id": "81f0fa8c-4888-4145-bdd7-13b7b65ea6ad",
   "metadata": {},
   "outputs": [],
   "source": [
    "def build_network(edges_df, hsanum, year):\n",
    "    \"\"\"Create a networkx graph given a dataframe of edges, a region, and year.\"\"\"\n",
    "  \n",
    "    # initialize an undirected graph G\n",
    "    G = nx.Graph()\n",
    "\n",
    "    # populate G\n",
    "    G = nx.from_pandas_edgelist(df=edges_df[(edges_df.hsanum==hsanum) & (edges_df.year==year)], \n",
    "                              source=\"npi_a\",\n",
    "                              target=\"npi_b\",\n",
    "                              edge_attr=[\"a2b\", \n",
    "                                         \"b2a\"])\n",
    "\n",
    "    # sanity check\n",
    "    assert G.is_directed() is False\n",
    "    assert G.is_multigraph() is False\n",
    "\n",
    "    # return\n",
    "    return G"
   ]
  },
  {
   "cell_type": "markdown",
   "id": "30ec2789-933b-46b0-831f-e887f0986689",
   "metadata": {},
   "source": [
    "# Build the networks"
   ]
  },
  {
   "cell_type": "code",
   "execution_count": 4,
   "id": "94786c7a-d5a8-4335-bcff-4c77e76c556c",
   "metadata": {},
   "outputs": [],
   "source": [
    "# create a dataframe to hold region X year network measures\n",
    "df = edges_df[[\"hsanum\",\n",
    "               \"year\"]].drop_duplicates()"
   ]
  },
  {
   "cell_type": "code",
   "execution_count": 5,
   "id": "31dff2ae-df08-4b61-a52e-a513b836cfb4",
   "metadata": {},
   "outputs": [],
   "source": [
    "# build the networks\n",
    "df = df.assign(G=df.apply(lambda row: build_network(edges_df=edges_df,\n",
    "                                                    hsanum=row[\"hsanum\"], \n",
    "                                                    year=row[\"year\"]),\n",
    "                          axis=1))"
   ]
  },
  {
   "cell_type": "code",
   "execution_count": 6,
   "id": "7a92c945-5fdd-4e3e-b96e-020840e1d01b",
   "metadata": {},
   "outputs": [],
   "source": [
    "# add some measures\n",
    "df = df.assign(nnodes=df.G.apply(nx.number_of_nodes),\n",
    "               nedges=df.G.apply(nx.number_of_edges),\n",
    "               density=df.G.apply(nx.density),\n",
    "               degree_assortativity=df.G.apply(nx.degree_assortativity_coefficient))"
   ]
  },
  {
   "cell_type": "code",
   "execution_count": 7,
   "id": "17213b01-c992-4296-9820-ec55607ed1f8",
   "metadata": {},
   "outputs": [
    {
     "data": {
      "text/html": [
       "<div>\n",
       "<style scoped>\n",
       "    .dataframe tbody tr th:only-of-type {\n",
       "        vertical-align: middle;\n",
       "    }\n",
       "\n",
       "    .dataframe tbody tr th {\n",
       "        vertical-align: top;\n",
       "    }\n",
       "\n",
       "    .dataframe thead th {\n",
       "        text-align: right;\n",
       "    }\n",
       "</style>\n",
       "<table border=\"1\" class=\"dataframe\">\n",
       "  <thead>\n",
       "    <tr style=\"text-align: right;\">\n",
       "      <th></th>\n",
       "      <th>hsanum</th>\n",
       "      <th>year</th>\n",
       "      <th>G</th>\n",
       "      <th>nnodes</th>\n",
       "      <th>nedges</th>\n",
       "      <th>density</th>\n",
       "      <th>degree_assortativity</th>\n",
       "    </tr>\n",
       "  </thead>\n",
       "  <tbody>\n",
       "    <tr>\n",
       "      <th>0</th>\n",
       "      <td>1001</td>\n",
       "      <td>2014</td>\n",
       "      <td>(1750540035, 1982684999, 1245433648, 184138472...</td>\n",
       "      <td>98</td>\n",
       "      <td>1464</td>\n",
       "      <td>0.308016</td>\n",
       "      <td>-0.429306</td>\n",
       "    </tr>\n",
       "    <tr>\n",
       "      <th>1464</th>\n",
       "      <td>1002</td>\n",
       "      <td>2014</td>\n",
       "      <td>(1376504977, 1700952751, 1679545131, 171008073...</td>\n",
       "      <td>37</td>\n",
       "      <td>413</td>\n",
       "      <td>0.620120</td>\n",
       "      <td>-0.276127</td>\n",
       "    </tr>\n",
       "    <tr>\n",
       "      <th>1877</th>\n",
       "      <td>1003</td>\n",
       "      <td>2014</td>\n",
       "      <td>(1104821099, 1679847776, 1689769739, 173018496...</td>\n",
       "      <td>25</td>\n",
       "      <td>143</td>\n",
       "      <td>0.476667</td>\n",
       "      <td>-0.350290</td>\n",
       "    </tr>\n",
       "    <tr>\n",
       "      <th>2020</th>\n",
       "      <td>1004</td>\n",
       "      <td>2014</td>\n",
       "      <td>(1700811072, 1952375354, 1699838185, 172006773...</td>\n",
       "      <td>117</td>\n",
       "      <td>2421</td>\n",
       "      <td>0.356764</td>\n",
       "      <td>-0.410506</td>\n",
       "    </tr>\n",
       "    <tr>\n",
       "      <th>4441</th>\n",
       "      <td>1006</td>\n",
       "      <td>2014</td>\n",
       "      <td>(1710935457, 1801811799, 1194718759, 128562782...</td>\n",
       "      <td>8</td>\n",
       "      <td>14</td>\n",
       "      <td>0.500000</td>\n",
       "      <td>-0.458333</td>\n",
       "    </tr>\n",
       "    <tr>\n",
       "      <th>...</th>\n",
       "      <td>...</td>\n",
       "      <td>...</td>\n",
       "      <td>...</td>\n",
       "      <td>...</td>\n",
       "      <td>...</td>\n",
       "      <td>...</td>\n",
       "      <td>...</td>\n",
       "    </tr>\n",
       "    <tr>\n",
       "      <th>39139836</th>\n",
       "      <td>53021</td>\n",
       "      <td>2017</td>\n",
       "      <td>(1295896751, 1700914306, 1295282457, 133653985...</td>\n",
       "      <td>50</td>\n",
       "      <td>743</td>\n",
       "      <td>0.606531</td>\n",
       "      <td>-0.232525</td>\n",
       "    </tr>\n",
       "    <tr>\n",
       "      <th>39140579</th>\n",
       "      <td>53023</td>\n",
       "      <td>2017</td>\n",
       "      <td>(1114969698, 1447256888, 1164494241, 171095916...</td>\n",
       "      <td>9</td>\n",
       "      <td>34</td>\n",
       "      <td>0.944444</td>\n",
       "      <td>-0.283019</td>\n",
       "    </tr>\n",
       "    <tr>\n",
       "      <th>39140613</th>\n",
       "      <td>53024</td>\n",
       "      <td>2017</td>\n",
       "      <td>(1326146846, 1427291491, 1427153873, 142733473...</td>\n",
       "      <td>7</td>\n",
       "      <td>21</td>\n",
       "      <td>1.000000</td>\n",
       "      <td>NaN</td>\n",
       "    </tr>\n",
       "    <tr>\n",
       "      <th>39140634</th>\n",
       "      <td>53025</td>\n",
       "      <td>2017</td>\n",
       "      <td>(1336218890, 1457352452, 1861494460, 190229213...</td>\n",
       "      <td>10</td>\n",
       "      <td>45</td>\n",
       "      <td>1.000000</td>\n",
       "      <td>NaN</td>\n",
       "    </tr>\n",
       "    <tr>\n",
       "      <th>39140679</th>\n",
       "      <td>53026</td>\n",
       "      <td>2017</td>\n",
       "      <td>(1386646669, 1588656136, 1457396962, 111446212...</td>\n",
       "      <td>12</td>\n",
       "      <td>21</td>\n",
       "      <td>0.318182</td>\n",
       "      <td>-0.349584</td>\n",
       "    </tr>\n",
       "  </tbody>\n",
       "</table>\n",
       "<p>13493 rows × 7 columns</p>\n",
       "</div>"
      ],
      "text/plain": [
       "          hsanum  year                                                  G  \\\n",
       "0           1001  2014  (1750540035, 1982684999, 1245433648, 184138472...   \n",
       "1464        1002  2014  (1376504977, 1700952751, 1679545131, 171008073...   \n",
       "1877        1003  2014  (1104821099, 1679847776, 1689769739, 173018496...   \n",
       "2020        1004  2014  (1700811072, 1952375354, 1699838185, 172006773...   \n",
       "4441        1006  2014  (1710935457, 1801811799, 1194718759, 128562782...   \n",
       "...          ...   ...                                                ...   \n",
       "39139836   53021  2017  (1295896751, 1700914306, 1295282457, 133653985...   \n",
       "39140579   53023  2017  (1114969698, 1447256888, 1164494241, 171095916...   \n",
       "39140613   53024  2017  (1326146846, 1427291491, 1427153873, 142733473...   \n",
       "39140634   53025  2017  (1336218890, 1457352452, 1861494460, 190229213...   \n",
       "39140679   53026  2017  (1386646669, 1588656136, 1457396962, 111446212...   \n",
       "\n",
       "          nnodes  nedges   density  degree_assortativity  \n",
       "0             98    1464  0.308016             -0.429306  \n",
       "1464          37     413  0.620120             -0.276127  \n",
       "1877          25     143  0.476667             -0.350290  \n",
       "2020         117    2421  0.356764             -0.410506  \n",
       "4441           8      14  0.500000             -0.458333  \n",
       "...          ...     ...       ...                   ...  \n",
       "39139836      50     743  0.606531             -0.232525  \n",
       "39140579       9      34  0.944444             -0.283019  \n",
       "39140613       7      21  1.000000                   NaN  \n",
       "39140634      10      45  1.000000                   NaN  \n",
       "39140679      12      21  0.318182             -0.349584  \n",
       "\n",
       "[13493 rows x 7 columns]"
      ]
     },
     "execution_count": 7,
     "metadata": {},
     "output_type": "execute_result"
    }
   ],
   "source": [
    "df"
   ]
  },
  {
   "cell_type": "markdown",
   "id": "3a584334",
   "metadata": {},
   "source": [
    "# Compute Curvature Filtration"
   ]
  },
  {
   "cell_type": "code",
   "execution_count": 18,
   "id": "82ef88e3",
   "metadata": {},
   "outputs": [],
   "source": [
    "#subsample\n",
    "sample1 = df.sample(n=200)\n",
    "sample1.head()\n",
    "\n",
    "sample1.to_pickle(\"patient_network_sample1.pkl\")"
   ]
  },
  {
   "cell_type": "code",
   "execution_count": 19,
   "id": "b7af81b2",
   "metadata": {},
   "outputs": [],
   "source": [
    "sample2 = df.sample(n=200)\n",
    "sample2.head()\n",
    "\n",
    "sample2.to_pickle(\"patient_network_sample2.pkl\")"
   ]
  },
  {
   "cell_type": "code",
   "execution_count": null,
   "id": "1ca11c7f",
   "metadata": {},
   "outputs": [],
   "source": []
  }
 ],
 "metadata": {
  "kernelspec": {
   "display_name": "Python 3 (ipykernel)",
   "language": "python",
   "name": "python3"
  },
  "language_info": {
   "codemirror_mode": {
    "name": "ipython",
    "version": 3
   },
   "file_extension": ".py",
   "mimetype": "text/x-python",
   "name": "python",
   "nbconvert_exporter": "python",
   "pygments_lexer": "ipython3",
   "version": "3.11.0"
  },
  "vscode": {
   "interpreter": {
    "hash": "aee8b7b246df8f9039afb4144a1f6fd8d2ca17a180786b69acc140d282b71a49"
   }
  }
 },
 "nbformat": 4,
 "nbformat_minor": 5
}
